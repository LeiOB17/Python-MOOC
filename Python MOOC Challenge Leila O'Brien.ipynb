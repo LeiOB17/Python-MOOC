{
 "cells": [
  {
   "cell_type": "markdown",
   "id": "b880695f",
   "metadata": {},
   "source": [
    "# MOOC Python Challenge Leila O'Brien"
   ]
  },
  {
   "cell_type": "code",
   "execution_count": 2,
   "id": "8a3ef48e",
   "metadata": {},
   "outputs": [],
   "source": [
    "#Task 1- Use Pandas to read in the sales data from the CSV file provided in the “student materials” folder on Slack (sales_dataset.csv)"
   ]
  },
  {
   "cell_type": "code",
   "execution_count": 3,
   "id": "53a24081",
   "metadata": {
    "scrolled": true
   },
   "outputs": [],
   "source": [
    "#Import pandas for data analysis\n",
    "#Import numpy to to work with numerical data\n",
    "import pandas as pd \n",
    "import numpy as np"
   ]
  },
  {
   "cell_type": "code",
   "execution_count": 4,
   "id": "5f14ce4d",
   "metadata": {},
   "outputs": [],
   "source": [
    "#When the df is printed the customer name appeared below the rest of the table so I expanded the output display\n",
    "pd.set_option('display.max_rows', 500)\n",
    "pd.set_option('display.max_columns', 500)\n",
    "pd.set_option('display.width', 1000)"
   ]
  },
  {
   "cell_type": "code",
   "execution_count": 5,
   "id": "595df46e",
   "metadata": {
    "scrolled": true
   },
   "outputs": [
    {
     "name": "stdout",
     "output_type": "stream",
     "text": [
      "                Product Name     Category  Sale Price  Quantity Sold      Month    Customer Name\n",
      "0                   T-shirts     Clothing       10.99             20   December       John Smith\n",
      "1               Levi's Jeans     Clothing       59.99             18      April   Samantha Davis\n",
      "2               Dyson Vacuum         Home      599.99              2     August   David Williams\n",
      "3                 Sunglasses  Accessories       21.22             15        May   Kelly Williams\n",
      "4                 Headphones  Electronics        8.99             40    October      Chris Brown\n",
      "5              Water bottles  Accessories       14.14             22     August          Amy Lee\n",
      "6                  Backpacks  Accessories       18.99             27       July    William Smith\n",
      "7                       Hats  Accessories       29.99             35  September      Emily Davis\n",
      "8                      Books        Media       11.99             18      March   Robert Johnson\n",
      "9                       Toys         Toys       17.99             29   December   Kimberly White\n",
      "10                    Apples         Food       10.99             32       June  Michael Johnson\n",
      "11                Lawn mower      Outdoor      123.99             24   November   Samantha Davis\n",
      "12            Samsung Galaxy  Electronics      899.99              5  February          Jane Doe\n",
      "13                 iPhone 13  Electronics     1299.99              3   December     Mark Johnson\n",
      "14        Lululemon Yoga Mat      Fitness       89.99             15      April   Kelly Williams\n",
      "15            Picture frames   Home decor       41.99              2     August   Sarah Anderson\n",
      "16                   Candles   Home decor        3.49             19   November        Kevin Lee\n",
      "17               Apple Watch  Electronics      399.99              4  February    Robert Johnson\n",
      "18         Oakley Sunglasses  Accessories      149.99             12       July   Kimberly White\n",
      "19           Fitbit Charge 5      Fitness      149.99              9  September  Michael Johnson\n",
      "20              Harry Potter        Media       15.99             25  February        John Smith\n",
      "21               Phone cases  Electronics       12.04             25        May     Mark Johnson\n",
      "22           Nest Thermostat         Home      249.99              6       June  Elizabeth Brown\n",
      "23        Sony PlayStation 5  Electronics      499.99              4   November       John Smith\n",
      "24      Michael Kors Handbag  Accessories      349.99              8       July         Jane Doe\n",
      "25             Ninja Blender      Kitchen      129.99             10      March      Chris Brown\n",
      "26      Under Armour T-Shirt     Clothing       29.99             30   December          Amy Lee\n",
      "27           Amazon Echo Dot  Electronics       39.99             20      March      Emily Davis\n",
      "28          Patagonia Fleece     Clothing      119.99              6        May   Robert Johnson\n",
      "29     Schwinn Exercise Bike      Fitness      499.99              3  September  Michael Johnson\n",
      "30  Cuisinart Food Processor      Kitchen      199.99              4   December   Samantha Davis\n",
      "31      iRobot Roomba Vacuum         Home      399.99              2      April   David Williams\n",
      "32            Sonos Soundbar  Electronics      799.99              1     August  Elizabeth Brown\n"
     ]
    }
   ],
   "source": [
    "#Import and open csv file\n",
    "import pandas\n",
    "df = pandas.read_csv(r\"C:\\Users\\leila\\OneDrive\\FromYourPhone\\Documents\\Python MOOC\\sales_dataset.csv\")\n",
    "print(df)"
   ]
  },
  {
   "cell_type": "code",
   "execution_count": 6,
   "id": "c38685d7",
   "metadata": {},
   "outputs": [
    {
     "name": "stdout",
     "output_type": "stream",
     "text": [
      "0      219.80\n",
      "1     1079.82\n",
      "2     1199.98\n",
      "3      318.30\n",
      "4      359.60\n",
      "5      311.08\n",
      "6      512.73\n",
      "7     1049.65\n",
      "8      215.82\n",
      "9      521.71\n",
      "10     351.68\n",
      "11    2975.76\n",
      "12    4499.95\n",
      "13    3899.97\n",
      "14    1349.85\n",
      "15      83.98\n",
      "16      66.31\n",
      "17    1599.96\n",
      "18    1799.88\n",
      "19    1349.91\n",
      "20     399.75\n",
      "21     301.00\n",
      "22    1499.94\n",
      "23    1999.96\n",
      "24    2799.92\n",
      "25    1299.90\n",
      "26     899.70\n",
      "27     799.80\n",
      "28     719.94\n",
      "29    1499.97\n",
      "30     799.96\n",
      "31     799.98\n",
      "32     799.99\n",
      "dtype: float64\n"
     ]
    }
   ],
   "source": [
    "#Task 2- Calculate the total sales for each product \n",
    "\n",
    "#Assign a new variable called 'total_sales' to record the total sales price for product\n",
    "#Multiply 'Sale Price' by 'Quantity Sold'\n",
    "#Multiply using *\n",
    "\n",
    "total_product_sales = df['Sale Price'] * df['Quantity Sold']\n",
    "print(total_product_sales)"
   ]
  },
  {
   "cell_type": "code",
   "execution_count": 7,
   "id": "195470b7",
   "metadata": {
    "scrolled": true
   },
   "outputs": [
    {
     "name": "stdout",
     "output_type": "stream",
     "text": [
      "            Product Name    Category  Sale Price  Quantity Sold     Month   Customer Name  total_product_sales\n",
      "                T-shirts    Clothing       10.99             20  December      John Smith               219.80\n",
      "            Levi's Jeans    Clothing       59.99             18     April  Samantha Davis              1079.82\n",
      "            Dyson Vacuum        Home      599.99              2    August  David Williams              1199.98\n",
      "              Sunglasses Accessories       21.22             15       May  Kelly Williams               318.30\n",
      "              Headphones Electronics        8.99             40   October     Chris Brown               359.60\n",
      "           Water bottles Accessories       14.14             22    August         Amy Lee               311.08\n",
      "               Backpacks Accessories       18.99             27      July   William Smith               512.73\n",
      "                    Hats Accessories       29.99             35 September     Emily Davis              1049.65\n",
      "                   Books       Media       11.99             18     March  Robert Johnson               215.82\n",
      "                    Toys        Toys       17.99             29  December  Kimberly White               521.71\n",
      "                  Apples        Food       10.99             32      June Michael Johnson               351.68\n",
      "              Lawn mower     Outdoor      123.99             24  November  Samantha Davis              2975.76\n",
      "          Samsung Galaxy Electronics      899.99              5 February         Jane Doe              4499.95\n",
      "               iPhone 13 Electronics     1299.99              3  December    Mark Johnson              3899.97\n",
      "      Lululemon Yoga Mat     Fitness       89.99             15     April  Kelly Williams              1349.85\n",
      "          Picture frames  Home decor       41.99              2    August  Sarah Anderson                83.98\n",
      "                 Candles  Home decor        3.49             19  November       Kevin Lee                66.31\n",
      "             Apple Watch Electronics      399.99              4 February   Robert Johnson              1599.96\n",
      "       Oakley Sunglasses Accessories      149.99             12      July  Kimberly White              1799.88\n",
      "         Fitbit Charge 5     Fitness      149.99              9 September Michael Johnson              1349.91\n",
      "            Harry Potter       Media       15.99             25 February       John Smith               399.75\n",
      "             Phone cases Electronics       12.04             25       May    Mark Johnson               301.00\n",
      "         Nest Thermostat        Home      249.99              6      June Elizabeth Brown              1499.94\n",
      "      Sony PlayStation 5 Electronics      499.99              4  November      John Smith              1999.96\n",
      "    Michael Kors Handbag Accessories      349.99              8      July        Jane Doe              2799.92\n",
      "           Ninja Blender     Kitchen      129.99             10     March     Chris Brown              1299.90\n",
      "    Under Armour T-Shirt    Clothing       29.99             30  December         Amy Lee               899.70\n",
      "         Amazon Echo Dot Electronics       39.99             20     March     Emily Davis               799.80\n",
      "        Patagonia Fleece    Clothing      119.99              6       May  Robert Johnson               719.94\n",
      "   Schwinn Exercise Bike     Fitness      499.99              3 September Michael Johnson              1499.97\n",
      "Cuisinart Food Processor     Kitchen      199.99              4  December  Samantha Davis               799.96\n",
      "    iRobot Roomba Vacuum        Home      399.99              2     April  David Williams               799.98\n",
      "          Sonos Soundbar Electronics      799.99              1    August Elizabeth Brown               799.99\n"
     ]
    }
   ],
   "source": [
    "#Task 2 continued\n",
    "# I created a revised version of the df called product_sales and added a column to the table to show the total_product_sales\n",
    "#I removed the index from the table results because this affected the way the data was presented\n",
    "\n",
    "product_sales = df.assign(total_product_sales = df['Sale Price'] * df['Quantity Sold'])\n",
    "print(product_sales.to_string(index=False))"
   ]
  },
  {
   "cell_type": "code",
   "execution_count": 8,
   "id": "3a0da53a",
   "metadata": {},
   "outputs": [
    {
     "name": "stdout",
     "output_type": "stream",
     "text": [
      "             Quantity Sold  total_category_sales\n",
      "Category                                        \n",
      "Home decor              21                150.29\n",
      "Food                    32                351.68\n",
      "Toys                    29                521.71\n",
      "Media                   43                615.57\n",
      "Kitchen                 14               2099.86\n",
      "Clothing                74               2919.26\n",
      "Outdoor                 24               2975.76\n",
      "Home                    10               3499.90\n",
      "Fitness                 27               4199.73\n",
      "Accessories            119               6791.56\n",
      "Electronics            102              14260.23\n"
     ]
    }
   ],
   "source": [
    "#Task 3- Determine the average sale price for each product category \n",
    "#To find average: add total sales for each catergory (+) and divide by quantity sold (/)\n",
    "\n",
    "#I created a new variable to record the total sales for each category and changed the column name\n",
    "#category_sales_totals= \n",
    "product_sales = product_sales.rename(columns={'total_product_sales': 'total_category_sales'})\n",
    "\n",
    "#Next, I grouped by category and found the total category sales\n",
    "category_sales= pd.DataFrame(product_sales.groupby(['Category']).sum().sort_values('total_category_sales'))\n",
    "#Print showed 'Sale Price' category which made reading results confusing so I omitted it\n",
    "del category_sales['Sale Price']\n",
    "print(category_sales)"
   ]
  },
  {
   "cell_type": "code",
   "execution_count": 9,
   "id": "e7dd4440",
   "metadata": {},
   "outputs": [
    {
     "name": "stdout",
     "output_type": "stream",
     "text": [
      "             Quantity Sold  total_category_sales  average_category_sales\n",
      "Category                                                                \n",
      "Home decor              21                150.29                    7.16\n",
      "Food                    32                351.68                   10.99\n",
      "Toys                    29                521.71                   17.99\n",
      "Media                   43                615.57                   14.32\n",
      "Kitchen                 14               2099.86                  149.99\n",
      "Clothing                74               2919.26                   39.45\n",
      "Outdoor                 24               2975.76                  123.99\n",
      "Home                    10               3499.90                  349.99\n",
      "Fitness                 27               4199.73                  155.55\n",
      "Accessories            119               6791.56                   57.07\n",
      "Electronics            102              14260.23                  139.81\n"
     ]
    }
   ],
   "source": [
    "#Task 3 continued\n",
    "#After finding the total_category_sales for each category, I found the avaerage_category_sales by dividing the total_category_sales column by the Quantity Sold column.\n",
    "category_sales['average_category_sales'] = category_sales['total_category_sales'].div(category_sales['Quantity Sold'])\n",
    "#Print results to two decimal places\n",
    "print(category_sales.round(2))"
   ]
  },
  {
   "cell_type": "code",
   "execution_count": 55,
   "id": "e43c4834",
   "metadata": {},
   "outputs": [
    {
     "data": {
      "text/html": [
       "<div>\n",
       "<style scoped>\n",
       "    .dataframe tbody tr th:only-of-type {\n",
       "        vertical-align: middle;\n",
       "    }\n",
       "\n",
       "    .dataframe tbody tr th {\n",
       "        vertical-align: top;\n",
       "    }\n",
       "\n",
       "    .dataframe thead th {\n",
       "        text-align: right;\n",
       "    }\n",
       "</style>\n",
       "<table border=\"1\" class=\"dataframe\">\n",
       "  <thead>\n",
       "    <tr style=\"text-align: right;\">\n",
       "      <th></th>\n",
       "      <th>total_monthly_sales</th>\n",
       "    </tr>\n",
       "    <tr>\n",
       "      <th>Month</th>\n",
       "      <th></th>\n",
       "    </tr>\n",
       "  </thead>\n",
       "  <tbody>\n",
       "    <tr>\n",
       "      <th>February</th>\n",
       "      <td>6499.66</td>\n",
       "    </tr>\n",
       "    <tr>\n",
       "      <th>December</th>\n",
       "      <td>6341.14</td>\n",
       "    </tr>\n",
       "    <tr>\n",
       "      <th>July</th>\n",
       "      <td>5112.53</td>\n",
       "    </tr>\n",
       "    <tr>\n",
       "      <th>November</th>\n",
       "      <td>5042.03</td>\n",
       "    </tr>\n",
       "    <tr>\n",
       "      <th>September</th>\n",
       "      <td>3899.53</td>\n",
       "    </tr>\n",
       "    <tr>\n",
       "      <th>April</th>\n",
       "      <td>3229.65</td>\n",
       "    </tr>\n",
       "    <tr>\n",
       "      <th>August</th>\n",
       "      <td>2395.03</td>\n",
       "    </tr>\n",
       "    <tr>\n",
       "      <th>March</th>\n",
       "      <td>2315.52</td>\n",
       "    </tr>\n",
       "    <tr>\n",
       "      <th>June</th>\n",
       "      <td>1851.62</td>\n",
       "    </tr>\n",
       "    <tr>\n",
       "      <th>May</th>\n",
       "      <td>1339.24</td>\n",
       "    </tr>\n",
       "    <tr>\n",
       "      <th>October</th>\n",
       "      <td>359.60</td>\n",
       "    </tr>\n",
       "  </tbody>\n",
       "</table>\n",
       "</div>"
      ],
      "text/plain": [
       "           total_monthly_sales\n",
       "Month                         \n",
       "February               6499.66\n",
       "December               6341.14\n",
       "July                   5112.53\n",
       "November               5042.03\n",
       "September              3899.53\n",
       "April                  3229.65\n",
       "August                 2395.03\n",
       "March                  2315.52\n",
       "June                   1851.62\n",
       "May                    1339.24\n",
       "October                 359.60"
      ]
     },
     "execution_count": 55,
     "metadata": {},
     "output_type": "execute_result"
    }
   ],
   "source": [
    "#Task 4 Identify the month with the highest sales and the month with the lowest sales\n",
    "#Create new variable 'monthly_sales'- group results by month and find the sum of each month\n",
    "monthly_sales= pd.DataFrame(product_sales.groupby(['Month']).sum().sort_values('Month'))\n",
    "#Rename total_category_sales to total_monthly sales\n",
    "monthly_sales = monthly_sales.rename(columns={'total_category_sales': 'total_monthly_sales'})\n",
    "#Delete columns so table is clearer to read\n",
    "del monthly_sales['Sale Price']\n",
    "del monthly_sales['Quantity Sold']\n",
    "#Display results in descending order\n",
    "monthly_sales.sort_values('total_monthly_sales', ascending=False)"
   ]
  },
  {
   "cell_type": "code",
   "execution_count": 56,
   "id": "18398c60",
   "metadata": {},
   "outputs": [
    {
     "name": "stdout",
     "output_type": "stream",
     "text": [
      "total_monthly_sales    February \n",
      "dtype: object\n",
      "total_monthly_sales    October\n",
      "dtype: object\n"
     ]
    }
   ],
   "source": [
    "#Task 4 continued \n",
    "#Month with highest sales\n",
    "print(monthly_sales.idxmax())\n",
    "#Month with lowest sales\n",
    "print(monthly_sales.idxmin())"
   ]
  },
  {
   "cell_type": "code",
   "execution_count": null,
   "id": "5db7c21f",
   "metadata": {},
   "outputs": [],
   "source": []
  }
 ],
 "metadata": {
  "celltoolbar": "Raw Cell Format",
  "kernelspec": {
   "display_name": "Python 3 (ipykernel)",
   "language": "python",
   "name": "python3"
  },
  "language_info": {
   "codemirror_mode": {
    "name": "ipython",
    "version": 3
   },
   "file_extension": ".py",
   "mimetype": "text/x-python",
   "name": "python",
   "nbconvert_exporter": "python",
   "pygments_lexer": "ipython3",
   "version": "3.9.13"
  }
 },
 "nbformat": 4,
 "nbformat_minor": 5
}
